{
 "cells": [
  {
   "cell_type": "code",
   "execution_count": 2,
   "metadata": {
    "collapsed": true
   },
   "outputs": [],
   "source": []
  },
  {
   "cell_type": "markdown",
   "source": [
    "### Original least squared\n",
    "$\n",
    "\\begin{align}\n",
    "\\min_{w} || X w - y||_2^2\n",
    "\\end{align}\n",
    "$"
   ],
   "metadata": {
    "collapsed": false,
    "pycharm": {
     "name": "#%% md\n"
    }
   }
  },
  {
   "cell_type": "code",
   "execution_count": 3,
   "outputs": [],
   "source": [
    "# Standard scientific Python imports\n",
    "import matplotlib.pyplot as plt\n",
    "\n",
    "# Import datasets, classifiers and performance metrics\n",
    "from sklearn import datasets, svm, metrics\n",
    "from sklearn.model_selection import train_test_split\n",
    "from sklearn import linear_model\n",
    "reg = linear_model.LinearRegression()\n",
    "digits = datasets.load_digits()\n",
    "\n",
    "# flatten the images\n",
    "n_samples = len(digits.images)\n",
    "data = digits.images.reshape((n_samples, -1))\n",
    "\n",
    "# Split data into 50% train and 50% test subsets\n",
    "X_train, X_test, y_train, y_test = train_test_split(\n",
    "    data, digits.target, test_size=0.5, shuffle=False)\n",
    "\n"
   ],
   "metadata": {
    "collapsed": false,
    "pycharm": {
     "name": "#%%\n"
    }
   }
  },
  {
   "cell_type": "code",
   "execution_count": 4,
   "outputs": [
    {
     "data": {
      "text/plain": "array([ 4.73690888e-16,  9.97193139e-02,  4.84186021e-02, -1.41434749e-02,\n        6.59855220e-02, -2.33991729e-02, -2.78213309e-02, -8.37133647e-02,\n        3.32881103e+00, -5.83302305e-02,  1.02717113e-01,  8.17174241e-02,\n       -4.80891122e-02, -7.55761576e-02,  7.59270591e-02,  2.72260835e-01,\n       -5.62512638e-01,  1.90677808e-02,  4.84093490e-02, -1.86945064e-02,\n       -1.17185381e-01,  4.92736329e-02, -2.65638205e-02,  6.91561785e-02,\n       -1.39559897e+00, -1.23167042e-01,  3.01588888e-02,  6.56868968e-02,\n        1.22377086e-01,  1.03053291e-01, -9.30886797e-02, -3.68780908e+00,\n        7.93809463e-15, -1.61155669e-01,  1.04093108e-02,  1.45049695e-01,\n       -9.03026590e-02,  4.26734834e-02, -5.60603873e-02,  1.40165657e-14,\n       -6.61162444e-02,  1.03301325e-01, -3.35459423e-02, -1.97747938e-02,\n        1.29229143e-01,  3.48004475e-02,  3.43035890e-02, -1.58407392e-01,\n        1.07973225e+00,  3.01647976e-02, -8.18777231e-03, -7.09957838e-02,\n       -2.10704831e-01, -4.57232714e-02,  1.26413038e-01, -2.23360200e-01,\n       -2.17076820e+00, -1.62082553e-01, -4.86344787e-02, -5.32282817e-02,\n       -2.36541505e-02, -7.30270068e-02,  5.97626458e-05, -1.16337821e-01])"
     },
     "execution_count": 4,
     "metadata": {},
     "output_type": "execute_result"
    }
   ],
   "source": [
    "reg.fit(X_train, y_train)\n",
    "reg.coef_"
   ],
   "metadata": {
    "collapsed": false,
    "pycharm": {
     "name": "#%%\n"
    }
   }
  }
 ],
 "metadata": {
  "kernelspec": {
   "display_name": "Python 3",
   "language": "python",
   "name": "python3"
  },
  "language_info": {
   "codemirror_mode": {
    "name": "ipython",
    "version": 2
   },
   "file_extension": ".py",
   "mimetype": "text/x-python",
   "name": "python",
   "nbconvert_exporter": "python",
   "pygments_lexer": "ipython2",
   "version": "2.7.6"
  }
 },
 "nbformat": 4,
 "nbformat_minor": 0
}