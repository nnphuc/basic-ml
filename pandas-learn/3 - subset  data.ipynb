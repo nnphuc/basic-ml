{
 "cells": [
  {
   "cell_type": "code",
   "execution_count": 1,
   "metadata": {
    "collapsed": true
   },
   "outputs": [],
   "source": [
    "import pandas as pd"
   ]
  },
  {
   "cell_type": "code",
   "execution_count": 4,
   "outputs": [],
   "source": [
    "tinatic = pd.read_csv(\"titanic.csv\")"
   ],
   "metadata": {
    "collapsed": false,
    "pycharm": {
     "name": "#%%\n"
    }
   }
  },
  {
   "cell_type": "code",
   "execution_count": 5,
   "outputs": [],
   "source": [
    "age = tinatic[\"Age\"]"
   ],
   "metadata": {
    "collapsed": false,
    "pycharm": {
     "name": "#%%\n"
    }
   }
  },
  {
   "cell_type": "code",
   "execution_count": 6,
   "outputs": [
    {
     "data": {
      "text/plain": "0      22.0\n1      38.0\n2      26.0\n3      35.0\n4      35.0\n       ... \n886    27.0\n887    19.0\n888     NaN\n889    26.0\n890    32.0\nName: Age, Length: 891, dtype: float64"
     },
     "execution_count": 6,
     "metadata": {},
     "output_type": "execute_result"
    }
   ],
   "source": [
    "age"
   ],
   "metadata": {
    "collapsed": false,
    "pycharm": {
     "name": "#%%\n"
    }
   }
  },
  {
   "cell_type": "code",
   "execution_count": 8,
   "outputs": [],
   "source": [
    "age_sex = tinatic[[\"Age\", \"Sex\"]]"
   ],
   "metadata": {
    "collapsed": false,
    "pycharm": {
     "name": "#%%\n"
    }
   }
  },
  {
   "cell_type": "code",
   "execution_count": 9,
   "outputs": [
    {
     "data": {
      "text/plain": "      Age     Sex\n0    22.0    male\n1    38.0  female\n2    26.0  female\n3    35.0  female\n4    35.0    male\n..    ...     ...\n886  27.0    male\n887  19.0  female\n888   NaN  female\n889  26.0    male\n890  32.0    male\n\n[891 rows x 2 columns]",
      "text/html": "<div>\n<style scoped>\n    .dataframe tbody tr th:only-of-type {\n        vertical-align: middle;\n    }\n\n    .dataframe tbody tr th {\n        vertical-align: top;\n    }\n\n    .dataframe thead th {\n        text-align: right;\n    }\n</style>\n<table border=\"1\" class=\"dataframe\">\n  <thead>\n    <tr style=\"text-align: right;\">\n      <th></th>\n      <th>Age</th>\n      <th>Sex</th>\n    </tr>\n  </thead>\n  <tbody>\n    <tr>\n      <th>0</th>\n      <td>22.0</td>\n      <td>male</td>\n    </tr>\n    <tr>\n      <th>1</th>\n      <td>38.0</td>\n      <td>female</td>\n    </tr>\n    <tr>\n      <th>2</th>\n      <td>26.0</td>\n      <td>female</td>\n    </tr>\n    <tr>\n      <th>3</th>\n      <td>35.0</td>\n      <td>female</td>\n    </tr>\n    <tr>\n      <th>4</th>\n      <td>35.0</td>\n      <td>male</td>\n    </tr>\n    <tr>\n      <th>...</th>\n      <td>...</td>\n      <td>...</td>\n    </tr>\n    <tr>\n      <th>886</th>\n      <td>27.0</td>\n      <td>male</td>\n    </tr>\n    <tr>\n      <th>887</th>\n      <td>19.0</td>\n      <td>female</td>\n    </tr>\n    <tr>\n      <th>888</th>\n      <td>NaN</td>\n      <td>female</td>\n    </tr>\n    <tr>\n      <th>889</th>\n      <td>26.0</td>\n      <td>male</td>\n    </tr>\n    <tr>\n      <th>890</th>\n      <td>32.0</td>\n      <td>male</td>\n    </tr>\n  </tbody>\n</table>\n<p>891 rows × 2 columns</p>\n</div>"
     },
     "execution_count": 9,
     "metadata": {},
     "output_type": "execute_result"
    }
   ],
   "source": [
    "age_sex"
   ],
   "metadata": {
    "collapsed": false,
    "pycharm": {
     "name": "#%%\n"
    }
   }
  },
  {
   "cell_type": "code",
   "execution_count": 10,
   "outputs": [
    {
     "data": {
      "text/plain": "0      False\n1       True\n2      False\n3      False\n4      False\n       ...  \n886    False\n887    False\n888    False\n889    False\n890    False\nName: Age, Length: 891, dtype: bool"
     },
     "execution_count": 10,
     "metadata": {},
     "output_type": "execute_result"
    }
   ],
   "source": [
    "tinatic[\"Age\"] > 35"
   ],
   "metadata": {
    "collapsed": false,
    "pycharm": {
     "name": "#%%\n"
    }
   }
  },
  {
   "cell_type": "code",
   "execution_count": 16,
   "outputs": [],
   "source": [
    "class_23 = tinatic[tinatic[\"Pclass\"].isin([2,3])]"
   ],
   "metadata": {
    "collapsed": false,
    "pycharm": {
     "name": "#%%\n"
    }
   }
  },
  {
   "cell_type": "code",
   "execution_count": 17,
   "outputs": [
    {
     "data": {
      "text/plain": "     PassengerId  Survived  Pclass                                      Name  \\\n0              1         0       3                   Braund, Mr. Owen Harris   \n2              3         1       3                    Heikkinen, Miss. Laina   \n4              5         0       3                  Allen, Mr. William Henry   \n5              6         0       3                          Moran, Mr. James   \n7              8         0       3            Palsson, Master. Gosta Leonard   \n..           ...       ...     ...                                       ...   \n884          885         0       3                    Sutehall, Mr. Henry Jr   \n885          886         0       3      Rice, Mrs. William (Margaret Norton)   \n886          887         0       2                     Montvila, Rev. Juozas   \n888          889         0       3  Johnston, Miss. Catherine Helen \"Carrie\"   \n890          891         0       3                       Dooley, Mr. Patrick   \n\n        Sex   Age  SibSp  Parch            Ticket     Fare Cabin Embarked  \n0      male  22.0      1      0         A/5 21171   7.2500   NaN        S  \n2    female  26.0      0      0  STON/O2. 3101282   7.9250   NaN        S  \n4      male  35.0      0      0            373450   8.0500   NaN        S  \n5      male   NaN      0      0            330877   8.4583   NaN        Q  \n7      male   2.0      3      1            349909  21.0750   NaN        S  \n..      ...   ...    ...    ...               ...      ...   ...      ...  \n884    male  25.0      0      0   SOTON/OQ 392076   7.0500   NaN        S  \n885  female  39.0      0      5            382652  29.1250   NaN        Q  \n886    male  27.0      0      0            211536  13.0000   NaN        S  \n888  female   NaN      1      2        W./C. 6607  23.4500   NaN        S  \n890    male  32.0      0      0            370376   7.7500   NaN        Q  \n\n[675 rows x 12 columns]",
      "text/html": "<div>\n<style scoped>\n    .dataframe tbody tr th:only-of-type {\n        vertical-align: middle;\n    }\n\n    .dataframe tbody tr th {\n        vertical-align: top;\n    }\n\n    .dataframe thead th {\n        text-align: right;\n    }\n</style>\n<table border=\"1\" class=\"dataframe\">\n  <thead>\n    <tr style=\"text-align: right;\">\n      <th></th>\n      <th>PassengerId</th>\n      <th>Survived</th>\n      <th>Pclass</th>\n      <th>Name</th>\n      <th>Sex</th>\n      <th>Age</th>\n      <th>SibSp</th>\n      <th>Parch</th>\n      <th>Ticket</th>\n      <th>Fare</th>\n      <th>Cabin</th>\n      <th>Embarked</th>\n    </tr>\n  </thead>\n  <tbody>\n    <tr>\n      <th>0</th>\n      <td>1</td>\n      <td>0</td>\n      <td>3</td>\n      <td>Braund, Mr. Owen Harris</td>\n      <td>male</td>\n      <td>22.0</td>\n      <td>1</td>\n      <td>0</td>\n      <td>A/5 21171</td>\n      <td>7.2500</td>\n      <td>NaN</td>\n      <td>S</td>\n    </tr>\n    <tr>\n      <th>2</th>\n      <td>3</td>\n      <td>1</td>\n      <td>3</td>\n      <td>Heikkinen, Miss. Laina</td>\n      <td>female</td>\n      <td>26.0</td>\n      <td>0</td>\n      <td>0</td>\n      <td>STON/O2. 3101282</td>\n      <td>7.9250</td>\n      <td>NaN</td>\n      <td>S</td>\n    </tr>\n    <tr>\n      <th>4</th>\n      <td>5</td>\n      <td>0</td>\n      <td>3</td>\n      <td>Allen, Mr. William Henry</td>\n      <td>male</td>\n      <td>35.0</td>\n      <td>0</td>\n      <td>0</td>\n      <td>373450</td>\n      <td>8.0500</td>\n      <td>NaN</td>\n      <td>S</td>\n    </tr>\n    <tr>\n      <th>5</th>\n      <td>6</td>\n      <td>0</td>\n      <td>3</td>\n      <td>Moran, Mr. James</td>\n      <td>male</td>\n      <td>NaN</td>\n      <td>0</td>\n      <td>0</td>\n      <td>330877</td>\n      <td>8.4583</td>\n      <td>NaN</td>\n      <td>Q</td>\n    </tr>\n    <tr>\n      <th>7</th>\n      <td>8</td>\n      <td>0</td>\n      <td>3</td>\n      <td>Palsson, Master. Gosta Leonard</td>\n      <td>male</td>\n      <td>2.0</td>\n      <td>3</td>\n      <td>1</td>\n      <td>349909</td>\n      <td>21.0750</td>\n      <td>NaN</td>\n      <td>S</td>\n    </tr>\n    <tr>\n      <th>...</th>\n      <td>...</td>\n      <td>...</td>\n      <td>...</td>\n      <td>...</td>\n      <td>...</td>\n      <td>...</td>\n      <td>...</td>\n      <td>...</td>\n      <td>...</td>\n      <td>...</td>\n      <td>...</td>\n      <td>...</td>\n    </tr>\n    <tr>\n      <th>884</th>\n      <td>885</td>\n      <td>0</td>\n      <td>3</td>\n      <td>Sutehall, Mr. Henry Jr</td>\n      <td>male</td>\n      <td>25.0</td>\n      <td>0</td>\n      <td>0</td>\n      <td>SOTON/OQ 392076</td>\n      <td>7.0500</td>\n      <td>NaN</td>\n      <td>S</td>\n    </tr>\n    <tr>\n      <th>885</th>\n      <td>886</td>\n      <td>0</td>\n      <td>3</td>\n      <td>Rice, Mrs. William (Margaret Norton)</td>\n      <td>female</td>\n      <td>39.0</td>\n      <td>0</td>\n      <td>5</td>\n      <td>382652</td>\n      <td>29.1250</td>\n      <td>NaN</td>\n      <td>Q</td>\n    </tr>\n    <tr>\n      <th>886</th>\n      <td>887</td>\n      <td>0</td>\n      <td>2</td>\n      <td>Montvila, Rev. Juozas</td>\n      <td>male</td>\n      <td>27.0</td>\n      <td>0</td>\n      <td>0</td>\n      <td>211536</td>\n      <td>13.0000</td>\n      <td>NaN</td>\n      <td>S</td>\n    </tr>\n    <tr>\n      <th>888</th>\n      <td>889</td>\n      <td>0</td>\n      <td>3</td>\n      <td>Johnston, Miss. Catherine Helen \"Carrie\"</td>\n      <td>female</td>\n      <td>NaN</td>\n      <td>1</td>\n      <td>2</td>\n      <td>W./C. 6607</td>\n      <td>23.4500</td>\n      <td>NaN</td>\n      <td>S</td>\n    </tr>\n    <tr>\n      <th>890</th>\n      <td>891</td>\n      <td>0</td>\n      <td>3</td>\n      <td>Dooley, Mr. Patrick</td>\n      <td>male</td>\n      <td>32.0</td>\n      <td>0</td>\n      <td>0</td>\n      <td>370376</td>\n      <td>7.7500</td>\n      <td>NaN</td>\n      <td>Q</td>\n    </tr>\n  </tbody>\n</table>\n<p>675 rows × 12 columns</p>\n</div>"
     },
     "execution_count": 17,
     "metadata": {},
     "output_type": "execute_result"
    }
   ],
   "source": [
    "class_23"
   ],
   "metadata": {
    "collapsed": false,
    "pycharm": {
     "name": "#%%\n"
    }
   }
  },
  {
   "cell_type": "code",
   "execution_count": 19,
   "outputs": [],
   "source": [
    "class_23 = tinatic[(tinatic[\"Pclass\"] == 2)| (tinatic[\"Pclass\"] == 3)]"
   ],
   "metadata": {
    "collapsed": false,
    "pycharm": {
     "name": "#%%\n"
    }
   }
  },
  {
   "cell_type": "code",
   "execution_count": 20,
   "outputs": [
    {
     "data": {
      "text/plain": "     PassengerId  Survived  Pclass                                      Name  \\\n0              1         0       3                   Braund, Mr. Owen Harris   \n2              3         1       3                    Heikkinen, Miss. Laina   \n4              5         0       3                  Allen, Mr. William Henry   \n5              6         0       3                          Moran, Mr. James   \n7              8         0       3            Palsson, Master. Gosta Leonard   \n..           ...       ...     ...                                       ...   \n884          885         0       3                    Sutehall, Mr. Henry Jr   \n885          886         0       3      Rice, Mrs. William (Margaret Norton)   \n886          887         0       2                     Montvila, Rev. Juozas   \n888          889         0       3  Johnston, Miss. Catherine Helen \"Carrie\"   \n890          891         0       3                       Dooley, Mr. Patrick   \n\n        Sex   Age  SibSp  Parch            Ticket     Fare Cabin Embarked  \n0      male  22.0      1      0         A/5 21171   7.2500   NaN        S  \n2    female  26.0      0      0  STON/O2. 3101282   7.9250   NaN        S  \n4      male  35.0      0      0            373450   8.0500   NaN        S  \n5      male   NaN      0      0            330877   8.4583   NaN        Q  \n7      male   2.0      3      1            349909  21.0750   NaN        S  \n..      ...   ...    ...    ...               ...      ...   ...      ...  \n884    male  25.0      0      0   SOTON/OQ 392076   7.0500   NaN        S  \n885  female  39.0      0      5            382652  29.1250   NaN        Q  \n886    male  27.0      0      0            211536  13.0000   NaN        S  \n888  female   NaN      1      2        W./C. 6607  23.4500   NaN        S  \n890    male  32.0      0      0            370376   7.7500   NaN        Q  \n\n[675 rows x 12 columns]",
      "text/html": "<div>\n<style scoped>\n    .dataframe tbody tr th:only-of-type {\n        vertical-align: middle;\n    }\n\n    .dataframe tbody tr th {\n        vertical-align: top;\n    }\n\n    .dataframe thead th {\n        text-align: right;\n    }\n</style>\n<table border=\"1\" class=\"dataframe\">\n  <thead>\n    <tr style=\"text-align: right;\">\n      <th></th>\n      <th>PassengerId</th>\n      <th>Survived</th>\n      <th>Pclass</th>\n      <th>Name</th>\n      <th>Sex</th>\n      <th>Age</th>\n      <th>SibSp</th>\n      <th>Parch</th>\n      <th>Ticket</th>\n      <th>Fare</th>\n      <th>Cabin</th>\n      <th>Embarked</th>\n    </tr>\n  </thead>\n  <tbody>\n    <tr>\n      <th>0</th>\n      <td>1</td>\n      <td>0</td>\n      <td>3</td>\n      <td>Braund, Mr. Owen Harris</td>\n      <td>male</td>\n      <td>22.0</td>\n      <td>1</td>\n      <td>0</td>\n      <td>A/5 21171</td>\n      <td>7.2500</td>\n      <td>NaN</td>\n      <td>S</td>\n    </tr>\n    <tr>\n      <th>2</th>\n      <td>3</td>\n      <td>1</td>\n      <td>3</td>\n      <td>Heikkinen, Miss. Laina</td>\n      <td>female</td>\n      <td>26.0</td>\n      <td>0</td>\n      <td>0</td>\n      <td>STON/O2. 3101282</td>\n      <td>7.9250</td>\n      <td>NaN</td>\n      <td>S</td>\n    </tr>\n    <tr>\n      <th>4</th>\n      <td>5</td>\n      <td>0</td>\n      <td>3</td>\n      <td>Allen, Mr. William Henry</td>\n      <td>male</td>\n      <td>35.0</td>\n      <td>0</td>\n      <td>0</td>\n      <td>373450</td>\n      <td>8.0500</td>\n      <td>NaN</td>\n      <td>S</td>\n    </tr>\n    <tr>\n      <th>5</th>\n      <td>6</td>\n      <td>0</td>\n      <td>3</td>\n      <td>Moran, Mr. James</td>\n      <td>male</td>\n      <td>NaN</td>\n      <td>0</td>\n      <td>0</td>\n      <td>330877</td>\n      <td>8.4583</td>\n      <td>NaN</td>\n      <td>Q</td>\n    </tr>\n    <tr>\n      <th>7</th>\n      <td>8</td>\n      <td>0</td>\n      <td>3</td>\n      <td>Palsson, Master. Gosta Leonard</td>\n      <td>male</td>\n      <td>2.0</td>\n      <td>3</td>\n      <td>1</td>\n      <td>349909</td>\n      <td>21.0750</td>\n      <td>NaN</td>\n      <td>S</td>\n    </tr>\n    <tr>\n      <th>...</th>\n      <td>...</td>\n      <td>...</td>\n      <td>...</td>\n      <td>...</td>\n      <td>...</td>\n      <td>...</td>\n      <td>...</td>\n      <td>...</td>\n      <td>...</td>\n      <td>...</td>\n      <td>...</td>\n      <td>...</td>\n    </tr>\n    <tr>\n      <th>884</th>\n      <td>885</td>\n      <td>0</td>\n      <td>3</td>\n      <td>Sutehall, Mr. Henry Jr</td>\n      <td>male</td>\n      <td>25.0</td>\n      <td>0</td>\n      <td>0</td>\n      <td>SOTON/OQ 392076</td>\n      <td>7.0500</td>\n      <td>NaN</td>\n      <td>S</td>\n    </tr>\n    <tr>\n      <th>885</th>\n      <td>886</td>\n      <td>0</td>\n      <td>3</td>\n      <td>Rice, Mrs. William (Margaret Norton)</td>\n      <td>female</td>\n      <td>39.0</td>\n      <td>0</td>\n      <td>5</td>\n      <td>382652</td>\n      <td>29.1250</td>\n      <td>NaN</td>\n      <td>Q</td>\n    </tr>\n    <tr>\n      <th>886</th>\n      <td>887</td>\n      <td>0</td>\n      <td>2</td>\n      <td>Montvila, Rev. Juozas</td>\n      <td>male</td>\n      <td>27.0</td>\n      <td>0</td>\n      <td>0</td>\n      <td>211536</td>\n      <td>13.0000</td>\n      <td>NaN</td>\n      <td>S</td>\n    </tr>\n    <tr>\n      <th>888</th>\n      <td>889</td>\n      <td>0</td>\n      <td>3</td>\n      <td>Johnston, Miss. Catherine Helen \"Carrie\"</td>\n      <td>female</td>\n      <td>NaN</td>\n      <td>1</td>\n      <td>2</td>\n      <td>W./C. 6607</td>\n      <td>23.4500</td>\n      <td>NaN</td>\n      <td>S</td>\n    </tr>\n    <tr>\n      <th>890</th>\n      <td>891</td>\n      <td>0</td>\n      <td>3</td>\n      <td>Dooley, Mr. Patrick</td>\n      <td>male</td>\n      <td>32.0</td>\n      <td>0</td>\n      <td>0</td>\n      <td>370376</td>\n      <td>7.7500</td>\n      <td>NaN</td>\n      <td>Q</td>\n    </tr>\n  </tbody>\n</table>\n<p>675 rows × 12 columns</p>\n</div>"
     },
     "execution_count": 20,
     "metadata": {},
     "output_type": "execute_result"
    }
   ],
   "source": [
    "class_23"
   ],
   "metadata": {
    "collapsed": false,
    "pycharm": {
     "name": "#%%\n"
    }
   }
  },
  {
   "cell_type": "code",
   "execution_count": 21,
   "outputs": [
    {
     "data": {
      "text/plain": "     PassengerId  Survived  Pclass  \\\n0              1         0       3   \n1              2         1       1   \n2              3         1       3   \n3              4         1       1   \n4              5         0       3   \n..           ...       ...     ...   \n885          886         0       3   \n886          887         0       2   \n887          888         1       1   \n889          890         1       1   \n890          891         0       3   \n\n                                                  Name     Sex   Age  SibSp  \\\n0                              Braund, Mr. Owen Harris    male  22.0      1   \n1    Cumings, Mrs. John Bradley (Florence Briggs Th...  female  38.0      1   \n2                               Heikkinen, Miss. Laina  female  26.0      0   \n3         Futrelle, Mrs. Jacques Heath (Lily May Peel)  female  35.0      1   \n4                             Allen, Mr. William Henry    male  35.0      0   \n..                                                 ...     ...   ...    ...   \n885               Rice, Mrs. William (Margaret Norton)  female  39.0      0   \n886                              Montvila, Rev. Juozas    male  27.0      0   \n887                       Graham, Miss. Margaret Edith  female  19.0      0   \n889                              Behr, Mr. Karl Howell    male  26.0      0   \n890                                Dooley, Mr. Patrick    male  32.0      0   \n\n     Parch            Ticket     Fare Cabin Embarked  \n0        0         A/5 21171   7.2500   NaN        S  \n1        0          PC 17599  71.2833   C85        C  \n2        0  STON/O2. 3101282   7.9250   NaN        S  \n3        0            113803  53.1000  C123        S  \n4        0            373450   8.0500   NaN        S  \n..     ...               ...      ...   ...      ...  \n885      5            382652  29.1250   NaN        Q  \n886      0            211536  13.0000   NaN        S  \n887      0            112053  30.0000   B42        S  \n889      0            111369  30.0000  C148        C  \n890      0            370376   7.7500   NaN        Q  \n\n[714 rows x 12 columns]",
      "text/html": "<div>\n<style scoped>\n    .dataframe tbody tr th:only-of-type {\n        vertical-align: middle;\n    }\n\n    .dataframe tbody tr th {\n        vertical-align: top;\n    }\n\n    .dataframe thead th {\n        text-align: right;\n    }\n</style>\n<table border=\"1\" class=\"dataframe\">\n  <thead>\n    <tr style=\"text-align: right;\">\n      <th></th>\n      <th>PassengerId</th>\n      <th>Survived</th>\n      <th>Pclass</th>\n      <th>Name</th>\n      <th>Sex</th>\n      <th>Age</th>\n      <th>SibSp</th>\n      <th>Parch</th>\n      <th>Ticket</th>\n      <th>Fare</th>\n      <th>Cabin</th>\n      <th>Embarked</th>\n    </tr>\n  </thead>\n  <tbody>\n    <tr>\n      <th>0</th>\n      <td>1</td>\n      <td>0</td>\n      <td>3</td>\n      <td>Braund, Mr. Owen Harris</td>\n      <td>male</td>\n      <td>22.0</td>\n      <td>1</td>\n      <td>0</td>\n      <td>A/5 21171</td>\n      <td>7.2500</td>\n      <td>NaN</td>\n      <td>S</td>\n    </tr>\n    <tr>\n      <th>1</th>\n      <td>2</td>\n      <td>1</td>\n      <td>1</td>\n      <td>Cumings, Mrs. John Bradley (Florence Briggs Th...</td>\n      <td>female</td>\n      <td>38.0</td>\n      <td>1</td>\n      <td>0</td>\n      <td>PC 17599</td>\n      <td>71.2833</td>\n      <td>C85</td>\n      <td>C</td>\n    </tr>\n    <tr>\n      <th>2</th>\n      <td>3</td>\n      <td>1</td>\n      <td>3</td>\n      <td>Heikkinen, Miss. Laina</td>\n      <td>female</td>\n      <td>26.0</td>\n      <td>0</td>\n      <td>0</td>\n      <td>STON/O2. 3101282</td>\n      <td>7.9250</td>\n      <td>NaN</td>\n      <td>S</td>\n    </tr>\n    <tr>\n      <th>3</th>\n      <td>4</td>\n      <td>1</td>\n      <td>1</td>\n      <td>Futrelle, Mrs. Jacques Heath (Lily May Peel)</td>\n      <td>female</td>\n      <td>35.0</td>\n      <td>1</td>\n      <td>0</td>\n      <td>113803</td>\n      <td>53.1000</td>\n      <td>C123</td>\n      <td>S</td>\n    </tr>\n    <tr>\n      <th>4</th>\n      <td>5</td>\n      <td>0</td>\n      <td>3</td>\n      <td>Allen, Mr. William Henry</td>\n      <td>male</td>\n      <td>35.0</td>\n      <td>0</td>\n      <td>0</td>\n      <td>373450</td>\n      <td>8.0500</td>\n      <td>NaN</td>\n      <td>S</td>\n    </tr>\n    <tr>\n      <th>...</th>\n      <td>...</td>\n      <td>...</td>\n      <td>...</td>\n      <td>...</td>\n      <td>...</td>\n      <td>...</td>\n      <td>...</td>\n      <td>...</td>\n      <td>...</td>\n      <td>...</td>\n      <td>...</td>\n      <td>...</td>\n    </tr>\n    <tr>\n      <th>885</th>\n      <td>886</td>\n      <td>0</td>\n      <td>3</td>\n      <td>Rice, Mrs. William (Margaret Norton)</td>\n      <td>female</td>\n      <td>39.0</td>\n      <td>0</td>\n      <td>5</td>\n      <td>382652</td>\n      <td>29.1250</td>\n      <td>NaN</td>\n      <td>Q</td>\n    </tr>\n    <tr>\n      <th>886</th>\n      <td>887</td>\n      <td>0</td>\n      <td>2</td>\n      <td>Montvila, Rev. Juozas</td>\n      <td>male</td>\n      <td>27.0</td>\n      <td>0</td>\n      <td>0</td>\n      <td>211536</td>\n      <td>13.0000</td>\n      <td>NaN</td>\n      <td>S</td>\n    </tr>\n    <tr>\n      <th>887</th>\n      <td>888</td>\n      <td>1</td>\n      <td>1</td>\n      <td>Graham, Miss. Margaret Edith</td>\n      <td>female</td>\n      <td>19.0</td>\n      <td>0</td>\n      <td>0</td>\n      <td>112053</td>\n      <td>30.0000</td>\n      <td>B42</td>\n      <td>S</td>\n    </tr>\n    <tr>\n      <th>889</th>\n      <td>890</td>\n      <td>1</td>\n      <td>1</td>\n      <td>Behr, Mr. Karl Howell</td>\n      <td>male</td>\n      <td>26.0</td>\n      <td>0</td>\n      <td>0</td>\n      <td>111369</td>\n      <td>30.0000</td>\n      <td>C148</td>\n      <td>C</td>\n    </tr>\n    <tr>\n      <th>890</th>\n      <td>891</td>\n      <td>0</td>\n      <td>3</td>\n      <td>Dooley, Mr. Patrick</td>\n      <td>male</td>\n      <td>32.0</td>\n      <td>0</td>\n      <td>0</td>\n      <td>370376</td>\n      <td>7.7500</td>\n      <td>NaN</td>\n      <td>Q</td>\n    </tr>\n  </tbody>\n</table>\n<p>714 rows × 12 columns</p>\n</div>"
     },
     "execution_count": 21,
     "metadata": {},
     "output_type": "execute_result"
    }
   ],
   "source": [
    "tinatic[tinatic[\"Age\"].notna()]"
   ],
   "metadata": {
    "collapsed": false,
    "pycharm": {
     "name": "#%%\n"
    }
   }
  },
  {
   "cell_type": "code",
   "execution_count": 22,
   "outputs": [
    {
     "data": {
      "text/plain": "1      Cumings, Mrs. John Bradley (Florence Briggs Th...\n6                                McCarthy, Mr. Timothy J\n11                              Bonnell, Miss. Elizabeth\n13                           Andersson, Mr. Anders Johan\n15                      Hewlett, Mrs. (Mary D Kingcome) \n                             ...                        \n865                             Bystrom, Mrs. (Karolina)\n871     Beckwith, Mrs. Richard Leonard (Sallie Monypeny)\n873                          Vander Cruyssen, Mr. Victor\n879        Potter, Mrs. Thomas Jr (Lily Alexenia Wilson)\n885                 Rice, Mrs. William (Margaret Norton)\nName: Name, Length: 217, dtype: object"
     },
     "execution_count": 22,
     "metadata": {},
     "output_type": "execute_result"
    }
   ],
   "source": [
    "tinatic.loc[tinatic[\"Age\"] > 35 , \"Name\"]"
   ],
   "metadata": {
    "collapsed": false,
    "pycharm": {
     "name": "#%%\n"
    }
   }
  },
  {
   "cell_type": "code",
   "execution_count": 25,
   "outputs": [
    {
     "data": {
      "text/plain": "     Pclass   Age                                               Name     Sex\n15        2  55.0                   Hewlett, Mrs. (Mary D Kingcome)   female\n33        2  66.0                              Wheadon, Mr. Edward H    male\n148       2  36.5           Navratil, Mr. Michel (\"Louis M Hoffman\")    male\n149       2  42.0                  Byles, Rev. Thomas Roussel Davids    male\n150       2  51.0                         Bateman, Rev. Robert James    male\n161       2  40.0  Watt, Mrs. James (Elizabeth \"Bessie\" Inglis Mi...  female\n217       2  42.0                       Jacobsohn, Mr. Sidney Samuel    male\n232       2  59.0                          Sjostedt, Mr. Ernst Adolf    male\n236       2  44.0                                  Hold, Mr. Stephen    male\n249       2  54.0                      Carter, Rev. Ernest Courtenay    male\n259       2  50.0                        Parrish, Mrs. (Lutie Davis)  female\n265       2  36.0                                  Reeves, Mr. David    male\n272       2  41.0          Mellinger, Mrs. (Elizabeth Anne Maidment)  female\n288       2  42.0                               Hosono, Mr. Masabumi    male\n292       2  36.0                             Levy, Mr. Rene Jacques    male\n314       2  43.0                                 Hart, Mr. Benjamin    male\n317       2  54.0                               Moraweck, Dr. Ernest    male\n327       2  36.0                            Ball, Mrs. (Ada E Hall)  female\n344       2  36.0                            Fox, Mr. Stanley Hubert    male\n346       2  40.0                          Smith, Miss. Marion Elsie  female\n357       2  38.0                          Funk, Miss. Annie Clemmer  female\n387       2  36.0                                   Buss, Miss. Kate  female\n397       2  46.0                            McKane, Mr. Peter David    male\n432       2  42.0  Louch, Mrs. Charles Alexander (Alice Adelaide ...  female\n440       2  45.0        Hart, Mrs. Benjamin (Esther Ada Bloomfield)  female\n450       2  36.0                              West, Mr. Edwy Arthur    male\n458       2  50.0                                Toomey, Miss. Ellen  female\n463       2  48.0                       Milling, Mr. Jacob Christian    male\n518       2  36.0  Angle, Mrs. William A (Florence \"Mary\" Agnes H...  female\n526       2  50.0                               Ridsdale, Miss. Lucy  female\n570       2  62.0                                 Harris, Mr. George    male\n582       2  54.0                         Downton, Mr. William James    male\n586       2  47.0                            Jarvis, Mr. John Denzil    male\n594       2  37.0                            Chapman, Mr. John Henry    male\n626       2  57.0                     Kirkland, Rev. Charles Leonard    male\n670       2  40.0  Brown, Mrs. Thomas William Solomon (Elizabeth ...  female\n672       2  70.0                        Mitchell, Mr. Henry Michael    male\n684       2  60.0                  Brown, Mr. Thomas William Solomon    male\n695       2  52.0                         Chapman, Mr. Charles Henry    male\n705       2  39.0     Morley, Mr. Henry Samuel (\"Mr Henry Marshall\")    male\n706       2  45.0                      Kelly, Mrs. Florence \"Fannie\"  female\n714       2  52.0                              Greenberg, Mr. Samuel    male\n723       2  50.0                            Hodges, Mr. Henry Price    male\n754       2  48.0                   Herman, Mrs. Samuel (Jane Laver)  female\n772       2  57.0                                  Mack, Mrs. (Mary)  female\n774       2  54.0              Hocking, Mrs. Elizabeth (Eliza Needs)  female\n795       2  39.0                                 Otter, Mr. Richard    male\n808       2  39.0                                  Meyer, Mr. August    male\n854       2  44.0      Carter, Mrs. Ernest Courtenay (Lilian Hughes)  female\n865       2  42.0                           Bystrom, Mrs. (Karolina)  female",
      "text/html": "<div>\n<style scoped>\n    .dataframe tbody tr th:only-of-type {\n        vertical-align: middle;\n    }\n\n    .dataframe tbody tr th {\n        vertical-align: top;\n    }\n\n    .dataframe thead th {\n        text-align: right;\n    }\n</style>\n<table border=\"1\" class=\"dataframe\">\n  <thead>\n    <tr style=\"text-align: right;\">\n      <th></th>\n      <th>Pclass</th>\n      <th>Age</th>\n      <th>Name</th>\n      <th>Sex</th>\n    </tr>\n  </thead>\n  <tbody>\n    <tr>\n      <th>15</th>\n      <td>2</td>\n      <td>55.0</td>\n      <td>Hewlett, Mrs. (Mary D Kingcome)</td>\n      <td>female</td>\n    </tr>\n    <tr>\n      <th>33</th>\n      <td>2</td>\n      <td>66.0</td>\n      <td>Wheadon, Mr. Edward H</td>\n      <td>male</td>\n    </tr>\n    <tr>\n      <th>148</th>\n      <td>2</td>\n      <td>36.5</td>\n      <td>Navratil, Mr. Michel (\"Louis M Hoffman\")</td>\n      <td>male</td>\n    </tr>\n    <tr>\n      <th>149</th>\n      <td>2</td>\n      <td>42.0</td>\n      <td>Byles, Rev. Thomas Roussel Davids</td>\n      <td>male</td>\n    </tr>\n    <tr>\n      <th>150</th>\n      <td>2</td>\n      <td>51.0</td>\n      <td>Bateman, Rev. Robert James</td>\n      <td>male</td>\n    </tr>\n    <tr>\n      <th>161</th>\n      <td>2</td>\n      <td>40.0</td>\n      <td>Watt, Mrs. James (Elizabeth \"Bessie\" Inglis Mi...</td>\n      <td>female</td>\n    </tr>\n    <tr>\n      <th>217</th>\n      <td>2</td>\n      <td>42.0</td>\n      <td>Jacobsohn, Mr. Sidney Samuel</td>\n      <td>male</td>\n    </tr>\n    <tr>\n      <th>232</th>\n      <td>2</td>\n      <td>59.0</td>\n      <td>Sjostedt, Mr. Ernst Adolf</td>\n      <td>male</td>\n    </tr>\n    <tr>\n      <th>236</th>\n      <td>2</td>\n      <td>44.0</td>\n      <td>Hold, Mr. Stephen</td>\n      <td>male</td>\n    </tr>\n    <tr>\n      <th>249</th>\n      <td>2</td>\n      <td>54.0</td>\n      <td>Carter, Rev. Ernest Courtenay</td>\n      <td>male</td>\n    </tr>\n    <tr>\n      <th>259</th>\n      <td>2</td>\n      <td>50.0</td>\n      <td>Parrish, Mrs. (Lutie Davis)</td>\n      <td>female</td>\n    </tr>\n    <tr>\n      <th>265</th>\n      <td>2</td>\n      <td>36.0</td>\n      <td>Reeves, Mr. David</td>\n      <td>male</td>\n    </tr>\n    <tr>\n      <th>272</th>\n      <td>2</td>\n      <td>41.0</td>\n      <td>Mellinger, Mrs. (Elizabeth Anne Maidment)</td>\n      <td>female</td>\n    </tr>\n    <tr>\n      <th>288</th>\n      <td>2</td>\n      <td>42.0</td>\n      <td>Hosono, Mr. Masabumi</td>\n      <td>male</td>\n    </tr>\n    <tr>\n      <th>292</th>\n      <td>2</td>\n      <td>36.0</td>\n      <td>Levy, Mr. Rene Jacques</td>\n      <td>male</td>\n    </tr>\n    <tr>\n      <th>314</th>\n      <td>2</td>\n      <td>43.0</td>\n      <td>Hart, Mr. Benjamin</td>\n      <td>male</td>\n    </tr>\n    <tr>\n      <th>317</th>\n      <td>2</td>\n      <td>54.0</td>\n      <td>Moraweck, Dr. Ernest</td>\n      <td>male</td>\n    </tr>\n    <tr>\n      <th>327</th>\n      <td>2</td>\n      <td>36.0</td>\n      <td>Ball, Mrs. (Ada E Hall)</td>\n      <td>female</td>\n    </tr>\n    <tr>\n      <th>344</th>\n      <td>2</td>\n      <td>36.0</td>\n      <td>Fox, Mr. Stanley Hubert</td>\n      <td>male</td>\n    </tr>\n    <tr>\n      <th>346</th>\n      <td>2</td>\n      <td>40.0</td>\n      <td>Smith, Miss. Marion Elsie</td>\n      <td>female</td>\n    </tr>\n    <tr>\n      <th>357</th>\n      <td>2</td>\n      <td>38.0</td>\n      <td>Funk, Miss. Annie Clemmer</td>\n      <td>female</td>\n    </tr>\n    <tr>\n      <th>387</th>\n      <td>2</td>\n      <td>36.0</td>\n      <td>Buss, Miss. Kate</td>\n      <td>female</td>\n    </tr>\n    <tr>\n      <th>397</th>\n      <td>2</td>\n      <td>46.0</td>\n      <td>McKane, Mr. Peter David</td>\n      <td>male</td>\n    </tr>\n    <tr>\n      <th>432</th>\n      <td>2</td>\n      <td>42.0</td>\n      <td>Louch, Mrs. Charles Alexander (Alice Adelaide ...</td>\n      <td>female</td>\n    </tr>\n    <tr>\n      <th>440</th>\n      <td>2</td>\n      <td>45.0</td>\n      <td>Hart, Mrs. Benjamin (Esther Ada Bloomfield)</td>\n      <td>female</td>\n    </tr>\n    <tr>\n      <th>450</th>\n      <td>2</td>\n      <td>36.0</td>\n      <td>West, Mr. Edwy Arthur</td>\n      <td>male</td>\n    </tr>\n    <tr>\n      <th>458</th>\n      <td>2</td>\n      <td>50.0</td>\n      <td>Toomey, Miss. Ellen</td>\n      <td>female</td>\n    </tr>\n    <tr>\n      <th>463</th>\n      <td>2</td>\n      <td>48.0</td>\n      <td>Milling, Mr. Jacob Christian</td>\n      <td>male</td>\n    </tr>\n    <tr>\n      <th>518</th>\n      <td>2</td>\n      <td>36.0</td>\n      <td>Angle, Mrs. William A (Florence \"Mary\" Agnes H...</td>\n      <td>female</td>\n    </tr>\n    <tr>\n      <th>526</th>\n      <td>2</td>\n      <td>50.0</td>\n      <td>Ridsdale, Miss. Lucy</td>\n      <td>female</td>\n    </tr>\n    <tr>\n      <th>570</th>\n      <td>2</td>\n      <td>62.0</td>\n      <td>Harris, Mr. George</td>\n      <td>male</td>\n    </tr>\n    <tr>\n      <th>582</th>\n      <td>2</td>\n      <td>54.0</td>\n      <td>Downton, Mr. William James</td>\n      <td>male</td>\n    </tr>\n    <tr>\n      <th>586</th>\n      <td>2</td>\n      <td>47.0</td>\n      <td>Jarvis, Mr. John Denzil</td>\n      <td>male</td>\n    </tr>\n    <tr>\n      <th>594</th>\n      <td>2</td>\n      <td>37.0</td>\n      <td>Chapman, Mr. John Henry</td>\n      <td>male</td>\n    </tr>\n    <tr>\n      <th>626</th>\n      <td>2</td>\n      <td>57.0</td>\n      <td>Kirkland, Rev. Charles Leonard</td>\n      <td>male</td>\n    </tr>\n    <tr>\n      <th>670</th>\n      <td>2</td>\n      <td>40.0</td>\n      <td>Brown, Mrs. Thomas William Solomon (Elizabeth ...</td>\n      <td>female</td>\n    </tr>\n    <tr>\n      <th>672</th>\n      <td>2</td>\n      <td>70.0</td>\n      <td>Mitchell, Mr. Henry Michael</td>\n      <td>male</td>\n    </tr>\n    <tr>\n      <th>684</th>\n      <td>2</td>\n      <td>60.0</td>\n      <td>Brown, Mr. Thomas William Solomon</td>\n      <td>male</td>\n    </tr>\n    <tr>\n      <th>695</th>\n      <td>2</td>\n      <td>52.0</td>\n      <td>Chapman, Mr. Charles Henry</td>\n      <td>male</td>\n    </tr>\n    <tr>\n      <th>705</th>\n      <td>2</td>\n      <td>39.0</td>\n      <td>Morley, Mr. Henry Samuel (\"Mr Henry Marshall\")</td>\n      <td>male</td>\n    </tr>\n    <tr>\n      <th>706</th>\n      <td>2</td>\n      <td>45.0</td>\n      <td>Kelly, Mrs. Florence \"Fannie\"</td>\n      <td>female</td>\n    </tr>\n    <tr>\n      <th>714</th>\n      <td>2</td>\n      <td>52.0</td>\n      <td>Greenberg, Mr. Samuel</td>\n      <td>male</td>\n    </tr>\n    <tr>\n      <th>723</th>\n      <td>2</td>\n      <td>50.0</td>\n      <td>Hodges, Mr. Henry Price</td>\n      <td>male</td>\n    </tr>\n    <tr>\n      <th>754</th>\n      <td>2</td>\n      <td>48.0</td>\n      <td>Herman, Mrs. Samuel (Jane Laver)</td>\n      <td>female</td>\n    </tr>\n    <tr>\n      <th>772</th>\n      <td>2</td>\n      <td>57.0</td>\n      <td>Mack, Mrs. (Mary)</td>\n      <td>female</td>\n    </tr>\n    <tr>\n      <th>774</th>\n      <td>2</td>\n      <td>54.0</td>\n      <td>Hocking, Mrs. Elizabeth (Eliza Needs)</td>\n      <td>female</td>\n    </tr>\n    <tr>\n      <th>795</th>\n      <td>2</td>\n      <td>39.0</td>\n      <td>Otter, Mr. Richard</td>\n      <td>male</td>\n    </tr>\n    <tr>\n      <th>808</th>\n      <td>2</td>\n      <td>39.0</td>\n      <td>Meyer, Mr. August</td>\n      <td>male</td>\n    </tr>\n    <tr>\n      <th>854</th>\n      <td>2</td>\n      <td>44.0</td>\n      <td>Carter, Mrs. Ernest Courtenay (Lilian Hughes)</td>\n      <td>female</td>\n    </tr>\n    <tr>\n      <th>865</th>\n      <td>2</td>\n      <td>42.0</td>\n      <td>Bystrom, Mrs. (Karolina)</td>\n      <td>female</td>\n    </tr>\n  </tbody>\n</table>\n</div>"
     },
     "execution_count": 25,
     "metadata": {},
     "output_type": "execute_result"
    }
   ],
   "source": [
    "\n",
    "tinatic.loc[(tinatic[\"Age\"] > 35) & (tinatic[\"Pclass\"] == 2), [\"Pclass\", \"Age\", \"Name\", \"Sex\"]]"
   ],
   "metadata": {
    "collapsed": false,
    "pycharm": {
     "name": "#%%\n"
    }
   }
  },
  {
   "cell_type": "code",
   "execution_count": 26,
   "outputs": [
    {
     "data": {
      "text/plain": "                                           Name     Sex\n2                        Heikkinen, Miss. Laina  female\n3  Futrelle, Mrs. Jacques Heath (Lily May Peel)  female",
      "text/html": "<div>\n<style scoped>\n    .dataframe tbody tr th:only-of-type {\n        vertical-align: middle;\n    }\n\n    .dataframe tbody tr th {\n        vertical-align: top;\n    }\n\n    .dataframe thead th {\n        text-align: right;\n    }\n</style>\n<table border=\"1\" class=\"dataframe\">\n  <thead>\n    <tr style=\"text-align: right;\">\n      <th></th>\n      <th>Name</th>\n      <th>Sex</th>\n    </tr>\n  </thead>\n  <tbody>\n    <tr>\n      <th>2</th>\n      <td>Heikkinen, Miss. Laina</td>\n      <td>female</td>\n    </tr>\n    <tr>\n      <th>3</th>\n      <td>Futrelle, Mrs. Jacques Heath (Lily May Peel)</td>\n      <td>female</td>\n    </tr>\n  </tbody>\n</table>\n</div>"
     },
     "execution_count": 26,
     "metadata": {},
     "output_type": "execute_result"
    }
   ],
   "source": [
    "tinatic.iloc[2:4, 3:5]"
   ],
   "metadata": {
    "collapsed": false,
    "pycharm": {
     "name": "#%%\n"
    }
   }
  },
  {
   "cell_type": "code",
   "execution_count": null,
   "outputs": [],
   "source": [],
   "metadata": {
    "collapsed": false,
    "pycharm": {
     "name": "#%%\n"
    }
   }
  }
 ],
 "metadata": {
  "kernelspec": {
   "display_name": "Python 3",
   "language": "python",
   "name": "python3"
  },
  "language_info": {
   "codemirror_mode": {
    "name": "ipython",
    "version": 2
   },
   "file_extension": ".py",
   "mimetype": "text/x-python",
   "name": "python",
   "nbconvert_exporter": "python",
   "pygments_lexer": "ipython2",
   "version": "2.7.6"
  }
 },
 "nbformat": 4,
 "nbformat_minor": 0
}